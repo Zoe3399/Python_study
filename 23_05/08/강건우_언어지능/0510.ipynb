{
 "cells": [
  {
   "cell_type": "markdown",
   "id": "d192e4c7",
   "metadata": {},
   "source": [
    "윷놀이\n",
    "\n",
    "https://www.acmicpc.net/problem/2490\n",
    "\n",
    "별 찍기\n",
    "\n",
    "4 https://www.acmicpc.net/problem/2441\n",
    "\n",
    "8  https://www.acmicpc.net/problem/2445\n",
    "\n",
    "12  https://www.acmicpc.net/problem/2522\n",
    "\n",
    "20 https://www.acmicpc.net/problem/10995"
   ]
  },
  {
   "cell_type": "markdown",
   "id": "5f62e026",
   "metadata": {},
   "source": [
    "## [윷놀이](https://www.acmicpc.net/problem/2490)"
   ]
  },
  {
   "cell_type": "code",
   "execution_count": 9,
   "id": "7a226de8",
   "metadata": {
    "scrolled": true
   },
   "outputs": [
    {
     "name": "stdout",
     "output_type": "stream",
     "text": [
      "1 0 1 0\n",
      "B\n",
      "1 1 1 1\n",
      "E\n",
      "1 1 1 0\n",
      "A\n"
     ]
    }
   ],
   "source": [
    "#입력받을때 map함수를 사용. split함수로 띄어쓰기 구분\n",
    "for i in range(3):\n",
    "    lst, b, d = map(int, input().split()), 0, 0\n",
    "    #for문을 돌려서 조건문을 통해 배(b:0)과 등(d:1)을 구분 후 증감\n",
    "    for i in lst:\n",
    "        if i==0 : b+=1\n",
    "        else : d+=1\n",
    "    #조건문으로 배와 등 개수를 세서 도개걸윷모(ABCDE) 출력\n",
    "    print(\"A\")if b==1 and d==3 else print(\"B\") if b==2 and d==2 else print(\"C\") if b==3 and d==1 else print(\"D\") if b==4 and d==0 else print(\"E\")"
   ]
  },
  {
   "cell_type": "markdown",
   "id": "303b2991",
   "metadata": {},
   "source": [
    "## [별찍기 4](https://www.acmicpc.net/problem/2441)"
   ]
  },
  {
   "cell_type": "code",
   "execution_count": 43,
   "id": "59e0e720",
   "metadata": {
    "scrolled": true
   },
   "outputs": [
    {
     "name": "stdout",
     "output_type": "stream",
     "text": [
      "5\n",
      "*****\n",
      " ****\n",
      "  ***\n",
      "   **\n",
      "    *\n"
     ]
    },
    {
     "data": {
      "text/plain": [
       "[None, None, None, None, None]"
      ]
     },
     "execution_count": 43,
     "metadata": {},
     "output_type": "execute_result"
    }
   ],
   "source": [
    "# N을 입력받고 N의 횟수만큼 별을 출력하는 문제\n",
    "n = int(input())\n",
    "# for문을 돌려서 별 출력\n",
    "[print(\" \"*i+\"*\"*(n-i))for i in range(n)]"
   ]
  },
  {
   "cell_type": "markdown",
   "id": "bcceeb21",
   "metadata": {},
   "source": [
    "## [별찍기 8](https://www.acmicpc.net/problem/2445)"
   ]
  },
  {
   "cell_type": "code",
   "execution_count": 44,
   "id": "94368760",
   "metadata": {},
   "outputs": [
    {
     "name": "stdout",
     "output_type": "stream",
     "text": [
      "5\n",
      "*        *\n",
      "**      **\n",
      "***    ***\n",
      "****  ****\n",
      "**********\n",
      "****  ****\n",
      "***    ***\n",
      "**      **\n",
      "*        *\n"
     ]
    },
    {
     "data": {
      "text/plain": [
       "([None, None, None, None, None], [None, None, None, None])"
      ]
     },
     "execution_count": 44,
     "metadata": {},
     "output_type": "execute_result"
    }
   ],
   "source": [
    "#N입력받기\n",
    "n = int(input())\n",
    "#상단 포문 , 하단 포문\n",
    "[print(\"*\"*i +\" \"*2*(n-i)+\"*\"*i) for i in range(1,n+1)], [print(\"*\"*(n-j)+\" \"*2*j+\"*\"*(n-j)) for j in range(1,n)]"
   ]
  },
  {
   "cell_type": "markdown",
   "id": "70b44702",
   "metadata": {},
   "source": [
    "## [별찍기 12](https://www.acmicpc.net/problem/2522)"
   ]
  },
  {
   "cell_type": "code",
   "execution_count": 45,
   "id": "83b82be5",
   "metadata": {},
   "outputs": [
    {
     "name": "stdout",
     "output_type": "stream",
     "text": [
      "5\n",
      "    *\n",
      "   **\n",
      "  ***\n",
      " ****\n",
      "*****\n",
      " ****\n",
      "  ***\n",
      "   **\n",
      "    *\n"
     ]
    },
    {
     "data": {
      "text/plain": [
       "([None, None, None, None, None], [None, None, None, None])"
      ]
     },
     "execution_count": 45,
     "metadata": {},
     "output_type": "execute_result"
    }
   ],
   "source": [
    "#N입력받기\n",
    "n = int(input())\n",
    "#상하단 응용\n",
    "[print(\" \"*(n-i)+\"*\"*i) for i in range(1,n+1)],[print(\" \"*j+\"*\"*(n-j)) for j in range(1,n)]"
   ]
  },
  {
   "cell_type": "markdown",
   "id": "20d15fbe",
   "metadata": {},
   "source": [
    "## [별찍기 20](https://www.acmicpc.net/problem/10995)"
   ]
  },
  {
   "cell_type": "code",
   "execution_count": 46,
   "id": "59607408",
   "metadata": {},
   "outputs": [
    {
     "name": "stdout",
     "output_type": "stream",
     "text": [
      "5\n",
      "* * * * * \n",
      " * * * * *\n",
      "* * * * * \n",
      " * * * * *\n",
      "* * * * * \n"
     ]
    },
    {
     "data": {
      "text/plain": [
       "[None, None, None, None, None]"
      ]
     },
     "execution_count": 46,
     "metadata": {},
     "output_type": "execute_result"
    }
   ],
   "source": [
    "n = int(input())\n",
    "[print(\"* \"*n if i%2==0 else \" *\"*n) for i in range(n)]"
   ]
  }
 ],
 "metadata": {
  "kernelspec": {
   "display_name": "Python 3 (ipykernel)",
   "language": "python",
   "name": "python3"
  },
  "language_info": {
   "codemirror_mode": {
    "name": "ipython",
    "version": 3
   },
   "file_extension": ".py",
   "mimetype": "text/x-python",
   "name": "python",
   "nbconvert_exporter": "python",
   "pygments_lexer": "ipython3",
   "version": "3.9.7"
  }
 },
 "nbformat": 4,
 "nbformat_minor": 5
}
