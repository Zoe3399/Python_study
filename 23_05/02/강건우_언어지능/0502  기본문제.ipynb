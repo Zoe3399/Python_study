{
 "cells": [
  {
   "cell_type": "markdown",
   "id": "0cbcd633",
   "metadata": {},
   "source": [
    "# [ 밥 알 갯수]\n",
    "https://www.acmicpc.net/problem/27294\n",
    "\n",
    "\n",
    "# [ 한타 ]\n",
    "https://www.acmicpc.net/problem/20499\n",
    "\n",
    "\n",
    "# [평균은 넘겠지]\n",
    "https://www.acmicpc.net/problem/4344\n"
   ]
  },
  {
   "cell_type": "code",
   "execution_count": 56,
   "id": "9cd69cd6",
   "metadata": {},
   "outputs": [
    {
     "name": "stdout",
     "output_type": "stream",
     "text": [
      "16 0\n",
      "320\n"
     ]
    }
   ],
   "source": [
    "# 밥알개수 문제\n",
    "t, s = input().split()\n",
    "# 술하고 같이 먹을 경우\n",
    "if int(s) == 1:\n",
    "    print(280)\n",
    "# 술없이 초밥만 먹을 경우 점심만 320개\n",
    "else:\n",
    "    if int(t) <= 11 : print(280) #아침\n",
    "    elif int(t) >= 12 and int(t) <= 16 : print(320) #점심\n",
    "    else : print(280) #저녁"
   ]
  },
  {
   "cell_type": "code",
   "execution_count": 55,
   "id": "13219b76",
   "metadata": {},
   "outputs": [
    {
     "name": "stdout",
     "output_type": "stream",
     "text": [
      "0/0/1\n",
      "hasu\n"
     ]
    }
   ],
   "source": [
    "# 한타 문제\n",
    "k,d,a = map(int, input().split(\"/\"))\n",
    "# 계산식(true가 뜨면 hasu false가 뜨면 gosu)\n",
    "if k+a<d or d == 0 : print(\"hasu\")\n",
    "else : print(\"gosu\")"
   ]
  },
  {
   "cell_type": "code",
   "execution_count": 43,
   "id": "64e339fa",
   "metadata": {
    "scrolled": false
   },
   "outputs": [
    {
     "name": "stdout",
     "output_type": "stream",
     "text": [
      "1\n",
      "5 50 50 70 80 100\n",
      "40.000%\n"
     ]
    }
   ],
   "source": [
    "#평균은 넘겠지 문제\n",
    "c = int(input()) #테스트 케이스의 수\n",
    "for i in range(c):\n",
    "    lst = list(map(int, input().split())) #학생의 수와 성적값\n",
    "    avg, cnt = sum(lst[1:])/lst[0], 0 #평균값 구하는 식과 평균 이상의 학생 수를 세는 변수\n",
    "    for i in lst[1:] : \n",
    "        if avg < i: cnt += 1 #평균을 넘는 학생수를 cnt변수에 저장\n",
    "    print(f\"{cnt/lst[0]*100:.3f}%\") #소수점 세째자리까지 출력"
   ]
  }
 ],
 "metadata": {
  "kernelspec": {
   "display_name": "Python 3 (ipykernel)",
   "language": "python",
   "name": "python3"
  },
  "language_info": {
   "codemirror_mode": {
    "name": "ipython",
    "version": 3
   },
   "file_extension": ".py",
   "mimetype": "text/x-python",
   "name": "python",
   "nbconvert_exporter": "python",
   "pygments_lexer": "ipython3",
   "version": "3.9.7"
  }
 },
 "nbformat": 4,
 "nbformat_minor": 5
}
